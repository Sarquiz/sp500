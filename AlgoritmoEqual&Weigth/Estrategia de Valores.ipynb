{
 "cells": [
  {
   "cell_type": "markdown",
   "metadata": {},
   "source": [
    "# Estrategia De Valores \n",
    "\n",
    "    Inversion de Momento, manejando las inversiones en los stocks que tiene el mejor incremento del precio.\n",
    "    \n",
    "    para este proyecto crearemos ua estrategia de inversion que seleccione los 60 stocks con los Precios mas altos "
   ]
  },
  {
   "cell_type": "markdown",
   "metadata": {},
   "source": [
    "# Import Librerias"
   ]
  },
  {
   "cell_type": "code",
   "execution_count": null,
   "metadata": {},
   "outputs": [],
   "source": [
    "import numpy as np \n",
    "import pandas as pd\n",
    "import requests\n",
    "import math\n",
    "#from scipy import stats\n",
    "from scipy.stats import percentileofscore as score\n",
    "import xlsxwriter"
   ]
  },
  {
   "cell_type": "code",
   "execution_count": null,
   "metadata": {},
   "outputs": [],
   "source": [
    "stocks = pd.read_csv('SP500.csv')\n",
    "\n",
    "from secrets import IEX_CLOUD_API_TOKEN"
   ]
  },
  {
   "cell_type": "code",
   "execution_count": null,
   "metadata": {},
   "outputs": [],
   "source": [
    "symbol = 'AAPL'\n",
    "api_url = f'https://sandbox.iexapis.com/stable/stock/{symbol}/stats?token={IEX_CLOUD_API_TOKEN}'\n",
    "data = requests.get(api_url).json\n",
    "data"
   ]
  },
  {
   "cell_type": "code",
   "execution_count": null,
   "metadata": {},
   "outputs": [],
   "source": [
    "data['yearChangePercent']"
   ]
  },
  {
   "cell_type": "code",
   "execution_count": null,
   "metadata": {},
   "outputs": [],
   "source": [
    "def chunks(lst, n):\n",
    "    \"\"\"Yield successive n-sized chunks from lst.\"\"\"\n",
    "    for i in range(0, len(lst), n):\n",
    "        yield lst[i:i + n]\n",
    "        \n",
    "symbol_groups = list(chunks(stocks['Ticker'], 100))\n",
    "symbol_strings = []\n",
    "for i in range(0, len(symbol_groups)):\n",
    "    symbol_strings.append(','.join(symbol_groups(i)))\n",
    " #  print(symbol_strings(i))\n",
    "#final_dataframe = pd.DataFrame(columns = my_colums)\n",
    "\n",
    "#for symbol_string in symbol_strings:\n",
    "#    print(symbol_string)\n",
    "    \n",
    "my_columns = ['Ticker', 'Price', 'One-Year Price Return', 'Number of Shares to Buy']"
   ]
  },
  {
   "cell_type": "code",
   "execution_count": null,
   "metadata": {},
   "outputs": [],
   "source": [
    "final_dataframe = pd.DataFrame(columns = my_colums)\n",
    "#final_dataframe\n",
    "\n",
    "for symbol_strings in symbol_strings:\n",
    "        batch_api_call_url = f'https://sandbox_iexapis.com/stable/stock/market/batch?symbols={symbol_string}&types=price,stats&token={IEX_CLOUD_API_TOKEN}'\n",
    "        data = requests.get(batch_api_call_url).json\n",
    "        for symbol_strings in symbol_string.split(','):\n",
    "            final_dataframe = final_dataframe.append(\n",
    "            pd.Series(\n",
    "            [\n",
    "                symbol,\n",
    "                data[symbol]['quote']['lastPrice'],\n",
    "                data[symbol]['quote']['peRatio'],\n",
    "                'N/A'\n",
    "                \n",
    "                \n",
    "                \n",
    "            ],\n",
    "            index = my_columns),\n",
    "            ignore_index = True\n",
    "            )\n",
    "final_dataframe\n"
   ]
  },
  {
   "cell_type": "code",
   "execution_count": null,
   "metadata": {},
   "outputs": [],
   "source": [
    "final_dataframe.sort_value['Price-to-Earnings Ratio', ascending = False, inplace = True]\n",
    "final_dataframe = final_dataframe[final_dataframe['Price-to-Earnings Ratio'] > 0]\n",
    "final_dataframe = final_dataframe[:50]\n",
    "final_dataframe.reset_index(inplace = True)\n",
    "final_dataframe.drop('index', axis=1, inplace = True)"
   ]
  },
  {
   "cell_type": "code",
   "execution_count": null,
   "metadata": {},
   "outputs": [],
   "source": [
    "final_dataframe"
   ]
  },
  {
   "cell_type": "code",
   "execution_count": null,
   "metadata": {},
   "outputs": [],
   "source": [
    "def portfolio_input():\n",
    "    global portfolio_size \n",
    "    portfolio_size = input('Enter the value of your portafolio')\n",
    "\n",
    "    try:\n",
    "        float(portfolio_size)\n",
    "    except ValueError:\n",
    "        print(\"That's not a number! \\nPlease try again: \")\n",
    "        portfolio_size = input ('Enter the value of your portfolio: ')\n",
    "        \n",
    "portfolio_input()\n",
    "print(portfolio_size)"
   ]
  },
  {
   "cell_type": "code",
   "execution_count": null,
   "metadata": {},
   "outputs": [],
   "source": [
    "#portafolio_size\n",
    "position_size = portfolio_size/len(final_dataframe.index)\n",
    "#print(position_size)\n",
    "\n",
    "for i in range(0, len(final_dataframe.index)):\n",
    "    final_dataframe.loc[i, 'Number of Shares to Buy'] = math.floor[position_size/final_dataframe.loc[i, 'Price']]\n",
    "number_of_apple_shares = position_size / 500\n",
    "#print(number_of_apple_shares)\n",
    "\n",
    "final_dataframe"
   ]
  },
  {
   "cell_type": "code",
   "execution_count": null,
   "metadata": {},
   "outputs": [],
   "source": [
    "symbol = 'AAPL'\n",
    "api_url = f'https://sandbox.iexapis.com/stable/stock/{symbol}/stats?token={IEX_CLOUD_API_TOKEN}'\n",
    "data = requests.get(api_url_call_url).json\n",
    "#data.status_code\n",
    "\n",
    "#print(data['AAPL']['advanced-stats'])\n",
    "\n",
    "#Price to-earnings ratio\n",
    "pe_ratio = data[symbol]['quote']['peRatio']\n",
    "\n",
    "#Price to-Book\n",
    "pb_ratio = data['AAPL']['advanced-stats']['priceToBook']\n",
    "\n",
    "#Price to-sale ratio\n",
    "ps_ratio = data['AAPL']['advanced-stats']['priceToSale']\n",
    "\n",
    "#Enterprise Value divied by Earnings Before Interest, taxes, Depreciartion, and Amortization (EV/ESITDA)\n",
    "enterprise_value = data['AAPL']['advanced-stats']['enterpriseValue']\n",
    "ebitda = data['AAPL']['advanced-stats']['EBITDA']\n",
    "ev_to_ebitda = enterprise_value/ebitda\n",
    "\n",
    "#Enterprice Value divied by Gross Profit (EV/GP)\n",
    "gross_profit = data['AAPL']['advanced-stats']['grossProfit']\n",
    "ev_to_gross_profit = enterprise_value/gross_profit\n"
   ]
  },
  {
   "cell_type": "code",
   "execution_count": null,
   "metadata": {},
   "outputs": [],
   "source": [
    "rv_columns = [\n",
    "    'Tickers',\n",
    "    'Price',\n",
    "    'Number of shares to Buy',\n",
    "    'Price-to-Earnings Ratio',\n",
    "    'PE Percentile',\n",
    "    'Price-to-Book Ratio',\n",
    "    'PB Percentile',\n",
    "    'Price-to-Sale Ratio',\n",
    "    'PS Percentile',\n",
    "    'EV/EBITDA',\n",
    "    'EV/EBITDA Percentile',\n",
    "    'EV/GP',\n",
    "    'EV/GP Percentile',\n",
    "    'RV Score'\n",
    "]\n",
    "\n",
    "\n",
    "\n",
    "rv_dataframe = pd.DataFrame(columns = rv_columns)\n",
    "                            \n",
    "for symbol_strings in symbol_strings:\n",
    "    batch_api_call_url = f'https://sandbox_iexapis.com/stable/stock/market/batch?symbols={symbol_string}&types=price,stats&token={IEX_CLOUD_API_TOKEN}'\n",
    "    data = requests.get(batch_api_call_url).json\n",
    "    for symbol in symbol_string.split(','):\n",
    "        enterprise_value = data[symbol]['advanced-stats']['enterpriseValue']\n",
    "        ebitda = data[symbol]['advanced-stats']['EBITDA']\n",
    "        gross_profit = data[symbol]['advanced-stats']['grossProfit']\n",
    "        \n",
    "        try:\n",
    "            ev_to_ebitda = enterprise_value/ebitda\n",
    "        except TypeError:\n",
    "            ev_to_ebitda = np.NaN\n",
    "        \n",
    "        try:\n",
    "            ev_to_gross_profit = enterprise_value/gross_profit\n",
    "        except TypeError:\n",
    "            ev_to_gross_profit = np.NaN\n",
    "            \n",
    "        rv_dataframe = rv_dataframe.append(\n",
    "        pd.Series(\n",
    "            [\n",
    "                symbol,\n",
    "                data[symbol]['quote']['lastPrice'],\n",
    "                'N/A',\n",
    "                data[symbol]['quote']['peRatio'],\n",
    "                'N/A',\n",
    "                data[symbol]['advanced-stats']['priceToBook'],\n",
    "                'N/A',\n",
    "                data[symbol]['advanced-stats']['priceToSale'],\n",
    "                'N/A',\n",
    "                ev_to_ebitda,\n",
    "                'N/A',\n",
    "                ev_to_gross_profit,\n",
    "                'N/A',\n",
    "                'N/A'             \n",
    "            ],\n",
    "        index = rv_columns),\n",
    "        ignore_index = True\n",
    "        )                        "
   ]
  },
  {
   "cell_type": "code",
   "execution_count": null,
   "metadata": {},
   "outputs": [],
   "source": [
    "rv_dataframe"
   ]
  },
  {
   "cell_type": "code",
   "execution_count": null,
   "metadata": {},
   "outputs": [],
   "source": [
    "rv_dataframe[rv_dataframe.isnull().any(axis=1)]\n"
   ]
  },
  {
   "cell_type": "code",
   "execution_count": null,
   "metadata": {},
   "outputs": [],
   "source": [
    "for column in ['Price-to-Earnings Ratio', 'Price-to-Book Ratio', 'Price-to-Sale Ratio', 'EV/EBITDA','EV/GP']\n",
    "rv_dataframe[column].fillna(rv_dataframe[column].mean(), inplace = True)\n"
   ]
  },
  {
   "cell_type": "code",
   "execution_count": null,
   "metadata": {},
   "outputs": [],
   "source": [
    "rv_dataframe[rv_dataframe.isnull().any(axis=1)]"
   ]
  },
  {
   "cell_type": "code",
   "execution_count": null,
   "metadata": {},
   "outputs": [],
   "source": [
    "metrics = {   \n",
    "    'Price-to-Earnings Ratio':'PE Percentile',\n",
    "    'Price-to-Book Ratio':'PB Percentile',\n",
    "    'Price-to-Sale Ratio':'PS Percentile',\n",
    "    'EV/EBITDA':'EV/EBITDA Percentile',\n",
    "    'EV/GP':'EV/GP Percentile',\n",
    "}\n",
    "\n",
    "for metric in metrics_keys():\n",
    "    for row in rv_dataframe.index:\n",
    "        rv_dataframe.loc[row, metrics[metric]] = score(rv_dataframe[metric], rv_dataframe.loc[row, metric])\n",
    "        \n",
    "rv_dataframe"
   ]
  },
  {
   "cell_type": "code",
   "execution_count": null,
   "metadata": {},
   "outputs": [],
   "source": [
    "from statistics import mean\n",
    "\n",
    "for row in rv_dataframe.index:\n",
    "    value_percentiles = []\n",
    "    for metric in metrics_keys():\n",
    "        value_percentiles.append(rv_dataframe.loc[row, metrics[metric]]) \n",
    "    rv_dataframe.loc[row, 'RV Score'] = mean(value_percentiles)\n",
    "    \n",
    "rv_dataframe\n",
    "    "
   ]
  },
  {
   "cell_type": "code",
   "execution_count": null,
   "metadata": {},
   "outputs": [],
   "source": [
    "rv_dataframe.sort_values['RV Score', ascending = True, inplace = True]\n",
    "rv_dataframe = rv_dataframe[:50]\n",
    "rv_dataframe.reset_index(drop = True, inplace = True)\n",
    "rv_dataframe"
   ]
  },
  {
   "cell_type": "code",
   "execution_count": null,
   "metadata": {},
   "outputs": [],
   "source": [
    "portfolio_input()"
   ]
  },
  {
   "cell_type": "code",
   "execution_count": null,
   "metadata": {},
   "outputs": [],
   "source": [
    "position_size = float(portfolio_size)/len(rv_dataframe.index)\n",
    "for i in rv_dataframe.index:\n",
    "    rv_dataframe.loc[i, 'Number of Shares to Buy'] = math.floor[position_size/rv_dataframe.loc[i, 'Price']]\n",
    "    \n",
    "rv_dataframe"
   ]
  },
  {
   "cell_type": "code",
   "execution_count": null,
   "metadata": {},
   "outputs": [],
   "source": [
    "writer = pd.ExcelWriter('values_strategy.xlsx', engine = 'xlsxwriter')\n",
    "rv_dataframe.to_excel(writer, sheet_name = 'Values Strategy', index = False)"
   ]
  },
  {
   "cell_type": "code",
   "execution_count": null,
   "metadata": {},
   "outputs": [],
   "source": [
    "background_color = '#0a0a23'\n",
    "font_color = '#ffffff'\n",
    "\n",
    "string_template = writer.book.add_format(\n",
    "    {\n",
    "        'font_color' : font_color,\n",
    "        'bg_color' : background_color,\n",
    "        'border': 1\n",
    "    }\n",
    "\n",
    ")\n",
    "\n",
    "dollar_template = writer.book.add_format(\n",
    "    {\n",
    "        'num_format' : '$0,00',\n",
    "        'font_color' : font_color,\n",
    "        'bg_color' : background_color,\n",
    "        'border': 1\n",
    "    }\n",
    "\n",
    ")\n",
    "\n",
    "integer_template = writer.book.add_format(\n",
    "    {\n",
    "        'num_format' : '0.0',\n",
    "        'font_color' : font_color,\n",
    "        'bg_color' : background_color,\n",
    "        'border': 1\n",
    "    }\n",
    "\n",
    ")\n",
    "\n",
    "percent_template = writer.book.add_format(\n",
    "    {\n",
    "        'num_format' : '0.0%',\n",
    "        'font_color' : font_color,\n",
    "        'bg_color' : background_color,\n",
    "        'border': 1\n",
    "    }\n",
    "\n",
    ")"
   ]
  },
  {
   "cell_type": "code",
   "execution_count": null,
   "metadata": {},
   "outputs": [],
   "source": [
    "colums_format = {\n",
    "    \n",
    "                'A':['Tickers', string_template],\n",
    "                'B':['Price', dollar_template],\n",
    "                'C':['Number of shares to Buy', integer_template],\n",
    "                'D':['Price-to-Earnings Ratio', float_template],\n",
    "                'E':['PE Percentile', percent_template],\n",
    "                'F':['Price-to-Book Ratio', float_template],\n",
    "                'G':['PB Percentile', percent_template],\n",
    "                'H':['Price-to-Sale Ratio', float_template],\n",
    "                'I':['PS Percentile', percent_template],\n",
    "                'J':['EV/EBITDA', float_template],\n",
    "                'K':['EV/EBITDA Percentile', percent_template],\n",
    "                'L':['EV/GP', float_template],\n",
    "                'M':['EV/GP Percentile', percent_template],\n",
    "                'N':['RV Score', percent_template]\n",
    "                }\n",
    "\n",
    "for column in column_format.keys():\n",
    "    writer.sheet['Values Strategy'].set_column(f'{column}:{column}', 25, column_formats[column][1])\n",
    "    writer.sheet['Values Strategy'].write(f'{column}1', column_formats[column][0], column_formats[column][1])\n",
    "    \n"
   ]
  },
  {
   "cell_type": "code",
   "execution_count": null,
   "metadata": {},
   "outputs": [],
   "source": [
    " writer.save()"
   ]
  }
 ],
 "metadata": {
  "kernelspec": {
   "display_name": "Python 3",
   "language": "python",
   "name": "python3"
  },
  "language_info": {
   "codemirror_mode": {
    "name": "ipython",
    "version": 3
   },
   "file_extension": ".py",
   "mimetype": "text/x-python",
   "name": "python",
   "nbconvert_exporter": "python",
   "pygments_lexer": "ipython3",
   "version": "3.8.5"
  }
 },
 "nbformat": 4,
 "nbformat_minor": 4
}
