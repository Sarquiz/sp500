{
 "cells": [
  {
   "cell_type": "markdown",
   "metadata": {},
   "source": [
    "# Prueba de algoritmo\n",
    " Programa estructurado para el trading y procesos de analisis de Mercado\n",
    " \n",
    "##Equal-Weight S&P 500 Index Fund "
   ]
  },
  {
   "cell_type": "code",
   "execution_count": null,
   "metadata": {},
   "outputs": [],
   "source": [
    "#Importar Librerias \n",
    "\n",
    "import numpy as np\n",
    "import pandas as pd\n",
    "import requests\n",
    "import xlsxwriter\n",
    "import math"
   ]
  },
  {
   "cell_type": "markdown",
   "metadata": {},
   "source": [
    "## Importar nuestra lista de Stock\n",
    "    #La proxima cosa que nesecitamos hacer is importar la constituente de la S&P 500.\n",
    "    #Esas  contituyentes cambian sobre tiempo, as en un ideal , pudiera directamente conectar aa indice provisto  jalar esas constituyente en tiempo real y regular las bases.\n",
    "    #Jugando por el acceso al indice provisto API ista fuera de lado de la scopia del tema.\n",
    "    # Guadar el CSV en la Carpeta donde esta el folio del software. y luego importarlo en Notebook"
   ]
  },
  {
   "cell_type": "code",
   "execution_count": null,
   "metadata": {},
   "outputs": [],
   "source": [
    "#Import File\n",
    "stocks = pd.read_csv('SP500.csv')\n",
    "stocks"
   ]
  },
  {
   "cell_type": "markdown",
   "metadata": {},
   "source": [
    "# Acquiring an API Token\n",
    "\n",
    "    #Ahora es tiempo para importar nuestra IEX Cloud API Token. Esta es la data que proveeremos al momento de ser usada pensando en el tema.\n",
    "    #Los API Tokens(  otras informaciones sensitivas) pudiera estar \"Stored\" en una (Secrect.py) ese archivo no esta obtenido en su repositoio local del git, estaremos usando un sandbox API token en este tema. Caules poromedios de la data que usamosremos es aleatorio-generado (mas Importanciones) no tieendra costo asociado con el \n",
    "    #Guadar en el mismo folio que se encuentra el software.\n",
    "    "
   ]
  },
  {
   "cell_type": "code",
   "execution_count": null,
   "metadata": {},
   "outputs": [],
   "source": [
    "from secrets import IEX_CLOUD_API_TOKEN"
   ]
  },
  {
   "cell_type": "markdown",
   "metadata": {},
   "source": [
    "# Haciendo nuestra primera API Call\n",
    "\n",
    "    #Ahora es tiempo de estructurar nuestra API Calls para IEX CLOUD\n",
    "    \n",
    "    #Nesecitamos la siguiente informacion acerca de la API:\n",
    "    # Mercado de Capitalizacion for each Stock\n",
    "    # Price of each Stock."
   ]
  },
  {
   "cell_type": "code",
   "execution_count": null,
   "metadata": {},
   "outputs": [],
   "source": [
    "symbol = 'AAPL'\n",
    "api_url = f'https://sandbox.iexapis.com/stock/{symbol}/quote/?token={IEX_CLOUD_API_TOKEN}'\n",
    "data = requests.get(api_url).json()\n",
    "print(data)\n"
   ]
  },
  {
   "cell_type": "markdown",
   "metadata": {},
   "source": [
    "# Parsing nuestra API \n",
    "    #La API Call eso lo ejecutamos in el pasado bloqueconteniendo toda la informacion requerida para cconstruir nuestra estrategia equal-weighr S&P 500. con esto dicho, no estara la data en el proyecto en un prosper formato aun. nesecitamos primero parse (ARLO)"
   ]
  },
  {
   "cell_type": "code",
   "execution_count": null,
   "metadata": {},
   "outputs": [],
   "source": [
    "price = data['lastPrice']    #dependiendo a los caracteres quese quiere analizar\n",
    "market_cap = data['marketCap']\n",
    "#print(market_cap/10000000000)"
   ]
  },
  {
   "cell_type": "markdown",
   "metadata": {},
   "source": [
    "# Agregando Nuestra data de stocks para un DataFrame de Pandas \n",
    "\n",
    "    # Luego nesecitaremos hacer es agregar nuestro precio del stock  y capitalizacion del mercado para un DataFrame de Pandas. Pensar una DataFrame que equivalga a la version de python de un spreedsheet, esta tiendas.\n",
    "    #\n",
    "    "
   ]
  },
  {
   "cell_type": "code",
   "execution_count": null,
   "metadata": {},
   "outputs": [],
   "source": [
    "my_columns = ['Ticker', 'Stock Price', 'Market Capitalization', 'NUmber of shares to buy']\n",
    "final_dataframe = pd.DataFrame([[0,0,0,0]], columns = my_columns)\n",
    "final_dataframe"
   ]
  },
  {
   "cell_type": "code",
   "execution_count": null,
   "metadata": {},
   "outputs": [],
   "source": [
    "final_dataframe.append(\n",
    "    pd.Series(\n",
    "    [\n",
    "        symbol,\n",
    "        price,\n",
    "        market_cap,\n",
    "        'N/A'\n",
    "    ],\n",
    "    index = my_columns\n",
    "    ),\n",
    "    ignore_index=True\n",
    ")"
   ]
  },
  {
   "cell_type": "markdown",
   "metadata": {},
   "source": [
    "# Looping Through the Ticker in Our List of stocks\n",
    "\n",
    "    #Using the same logic that outlined above, we can pull data for all S&P 500 stocks and store their data in the DataFrame using a for loop"
   ]
  },
  {
   "cell_type": "code",
   "execution_count": null,
   "metadata": {},
   "outputs": [],
   "source": [
    "final_dataframe = pd.DataFrame(columns = my_columns)\n",
    "for stock in stocks['Ticker']:\n",
    "    api_url = f'https://sandbox_iexapis.com/stable/stock/{stock}/quote?token={IEX_CLOUD_API_TOKEN}'\n",
    "    data = requests.get(api_url).json()\n",
    "    final_dataframe = final_dataframe.append(\n",
    "        pd.Series(\n",
    "        [\n",
    "            stock,\n",
    "            data['latestPrice'],\n",
    "            data['marketCap'],\n",
    "            'N/A'\n",
    "        ],\n",
    "        index = my_columns),\n",
    "    ignore_index = True                          \n",
    "    )"
   ]
  },
  {
   "cell_type": "code",
   "execution_count": null,
   "metadata": {},
   "outputs": [],
   "source": [
    "final_dataframe"
   ]
  },
  {
   "cell_type": "markdown",
   "metadata": {},
   "source": [
    "# Using Bach  API Calls to improveperformance\n",
    "    \n",
    "    #Bach API Calls son una de las maneras faciles para probar la performace del codigo \n",
    "    #Esta es porque el HTTP requests son tipicalmente unos de los componentes mas lentos de un script\n",
    "    # Tambiem, API proveera algunas obtenciones la tasa de descuento por usar el Bach API call desde ellos son mas facil pot la API providiendo responder para IEX Cloud sus limitantes del Bach API call para 100 tickers por requests. "
   ]
  },
  {
   "cell_type": "code",
   "execution_count": null,
   "metadata": {},
   "outputs": [],
   "source": [
    "def chunks(lst, n):\n",
    "    \"\"\"Yield successive n-sized chunks from lst.\"\"\"\n",
    "    for i in range(0, len(lst), n):\n",
    "        yield lst[i:i + n]"
   ]
  },
  {
   "cell_type": "code",
   "execution_count": null,
   "metadata": {},
   "outputs": [],
   "source": [
    "symbol_groups = list(chunks(stocks['Ticker'], 100))\n",
    "symbol_strings = []\n",
    "for i in range(0, len(symbol_groups)):\n",
    "    symbol_strings.append(','.join(symbol_groups(i)))\n",
    " #  print(symbol_strings(i))\n",
    "final_dataframe = pd.DataFrame(columns = my_colums)\n",
    "\n",
    "for symbol_strings in symbol_strings:\n",
    "    batch_api_call_url = f'https://sandbox_iexapis.com/stable/stock/market/batch?symbols={symbol_string}&types=quote&token={IEX_CLOUD_API_TOKEN}'\n",
    "    data = requests.get(batch_api_call_url).json\n",
    "    for symbol_strings in symbol_string.split(','):\n",
    "          final_dataframe = final_dataframe.append(\n",
    "                pd.Series(\n",
    "            [\n",
    "                symbol,\n",
    "                data[symbol]['quote']['latestPrice'],\n",
    "                data[symbol]['quote']['marketCap'],\n",
    "                'N/A'\n",
    "            ],\n",
    "            index = my_columns),\n",
    "            ignore_index = True                          \n",
    "        )\n",
    "\n",
    "final_dataframe\n"
   ]
  },
  {
   "cell_type": "markdown",
   "metadata": {},
   "source": [
    "# Calculating the number of shares to Buy"
   ]
  },
  {
   "cell_type": "code",
   "execution_count": null,
   "metadata": {},
   "outputs": [],
   "source": [
    "portfolio_size = input('Enter the value of your portfolio')\n",
    "\n",
    "try:\n",
    "    val = float(portfolio_size)\n",
    "except ValueError:\n",
    "    print(\"That's not a number! \\nPlease try again: \")\n",
    "    portfolio_size = input ('Enter the value of your portfolio: ')\n",
    "    val = float(portfolio_size)"
   ]
  },
  {
   "cell_type": "code",
   "execution_count": null,
   "metadata": {},
   "outputs": [],
   "source": [
    "#portafolio_size\n",
    "position_size = val/len(final_dataframe.index)\n",
    "#print(position_size)\n",
    "for i in range(0, len(final_dataframe.index)):\n",
    "    final_dataframe.loc[i, 'Number of Shares to Buy'] = math.floor[position_size/final_dataframe.loc[i, 'Stock Price']]\n",
    "number_of_apple_shares = position_size / 500\n",
    "print(number_of_apple_shares)\n"
   ]
  },
  {
   "cell_type": "markdown",
   "metadata": {},
   "source": [
    "# Formating our Excel Output\n",
    "\n",
    "    aqui realizaremos la la libreria de xlsxwriter para creararchivos de formato xlsx"
   ]
  },
  {
   "cell_type": "code",
   "execution_count": null,
   "metadata": {},
   "outputs": [],
   "source": [
    "writer = pd.ExcelWriter('recommended_trades.xlsx', engine = 'xlsxwriter')\n",
    "final_dataframe.to_excel(writer, 'Recommended Trades', index = False)"
   ]
  },
  {
   "cell_type": "markdown",
   "metadata": {},
   "source": [
    "# Crear los formatos que nesecitaremos para nuestra xlsxwriter"
   ]
  },
  {
   "cell_type": "code",
   "execution_count": null,
   "metadata": {},
   "outputs": [],
   "source": [
    "background_color = '#0a0a23'\n",
    "font_color = '#ffffff'\n",
    "\n",
    "string_format = writer.book.add_format(\n",
    "    {\n",
    "        'font_color' : font_color,\n",
    "        'bg_color' : background_color,\n",
    "        'border':\n",
    "    }\n",
    "\n",
    ")\n",
    "\n",
    "dollar_format = writer.book.add_format(\n",
    "    {\n",
    "        'num_format' : '$0,00',\n",
    "        'font_color' : font_color,\n",
    "        'bg_color' : background_color,\n",
    "        'border':\n",
    "    }\n",
    "\n",
    ")\n",
    "\n",
    "integer_format = writer.book.add_format(\n",
    "    {\n",
    "        'num_format' : '0',\n",
    "        'font_color' : font_color,\n",
    "        'bg_color' : background_color,\n",
    "        'border':\n",
    "    }\n",
    "\n",
    ")"
   ]
  },
  {
   "cell_type": "markdown",
   "metadata": {},
   "source": [
    "# Ampliar los formatos para las columnasde nuestro .xlsxwFile"
   ]
  },
  {
   "cell_type": "code",
   "execution_count": null,
   "metadata": {},
   "outputs": [],
   "source": [
    "#writer.sheets['Recommended Trades'].set_column('A:A', 18, string_format)\n",
    "#writer.sheets['Recommended Trades'].set_column('B:B', 18, string_format)\n",
    "#writer.sheets['Recommended Trades'].set_column('C:C', 18, string_format)\n",
    "#writer.sheets['Recommended Trades'].set_column('D:D', 18, string_format)\n",
    "#writer.save\n",
    "\n",
    "writer.sheets['Recommended Trades'].write('A1', 'Ticker', string_format)\n",
    "writer.sheets['Recommended Trades'].write('B1', 'Stock Price', dollar_format)\n",
    "writer.sheets['Recommended Trades'].write('C1', 'Market Capitalization', dollar_format)\n",
    "writer.sheets['Recommended Trades'].write('D1', 'NUmber of Shares to Buy', integer_format)\n"
   ]
  },
  {
   "cell_type": "code",
   "execution_count": null,
   "metadata": {},
   "outputs": [],
   "source": [
    "column_format = {\n",
    "    'A': ['Ticker', string_format],\n",
    "    'B': ['Stock Price', dollar_format],\n",
    "    'C': ['Market Capitalization', dollar_format],\n",
    "    'D': ['NUmber of Shares to Buy', integer_format]\n",
    "}\n",
    "\n",
    "for column in column_format.keys():\n",
    "    writer.sheet['Recommended Trades'].set_column(f'{column}:{column}', 18, column_formats[column][1])\n",
    "    writer.sheet['Recommended Trades'].write(f'{column}1', column_formats[column][0], column_formats[column][1]\n"
   ]
  },
  {
   "cell_type": "code",
   "execution_count": null,
   "metadata": {},
   "outputs": [],
   "source": [
    " writer.save()"
   ]
  }
 ],
 "metadata": {
  "kernelspec": {
   "display_name": "Python 3",
   "language": "python",
   "name": "python3"
  },
  "language_info": {
   "codemirror_mode": {
    "name": "ipython",
    "version": 3
   },
   "file_extension": ".py",
   "mimetype": "text/x-python",
   "name": "python",
   "nbconvert_exporter": "python",
   "pygments_lexer": "ipython3",
   "version": "3.8.5"
  }
 },
 "nbformat": 4,
 "nbformat_minor": 4
}
